{
 "cells": [
  {
   "cell_type": "code",
   "execution_count": null,
   "metadata": {},
   "outputs": [],
   "source": [
    "# Import required libraries and dependencies\n",
    "import pandas as pd\n",
    "import numpy as np\n",
    "import hvplot.pandas\n",
    "import matplotlib.pyplot as plt\n",
    "import plotly.express as px\n",
    "from sklearn.cluster import KMeans\n",
    "from sklearn.decomposition import PCA\n",
    "from sklearn.preprocessing import StandardScaler"
   ]
  },
  {
   "cell_type": "code",
   "execution_count": null,
   "metadata": {},
   "outputs": [],
   "source": [
    "# Load the data into a Pandas DataFrame\n",
    "df_market_data = pd.read_csv(\n",
    "    \"Resources/crypto_market_data.csv\",\n",
    "    index_col=\"coin_id\")\n",
    "\n",
    "# Display sample data\n",
    "df_market_data.head(10)"
   ]
  },
  {
   "cell_type": "code",
   "execution_count": null,
   "metadata": {},
   "outputs": [],
   "source": [
    "# Generate summary statistics\n",
    "df_market_data.describe()"
   ]
  },
  {
   "cell_type": "code",
   "execution_count": null,
   "metadata": {},
   "outputs": [],
   "source": [
    "# Plot your data to see what's in your DataFrame\n",
    "df_market_data.hvplot.line(\n",
    "    width=800,\n",
    "    height=400,\n",
    "    rot=90\n",
    ")"
   ]
  },
  {
   "cell_type": "markdown",
   "metadata": {},
   "source": [
    "---"
   ]
  },
  {
   "cell_type": "markdown",
   "metadata": {},
   "source": [
    "### Prepare the Data"
   ]
  },
  {
   "cell_type": "code",
   "execution_count": null,
   "metadata": {},
   "outputs": [],
   "source": [
    "# Use the `StandardScaler()` module from scikit-learn to normalize the data from the CSV file\n",
    "scaler = StandardScaler().fit(df_market_data)\n",
    "market_data_scaled = scaler.transform(df_market_data)\n",
    "#scaled_data = scaler.fit_transform(df_market_data)\n",
    "#scaled_data = scaler.fit_transform(df_market_data)\n",
    "\n",
    "\n",
    "\n"
   ]
  },
  {
   "cell_type": "code",
   "execution_count": null,
   "metadata": {},
   "outputs": [],
   "source": [
    "# Create a DataFrame with the scaled data\n",
    "df_market_data_scaled = pd.DataFrame(\n",
    "    market_data_scaled,\n",
    "    columns=df_market_data.columns,\n",
    "    index=df_market_data.index\n",
    ")\n",
    "\n",
    "# Display the first 5 rows of the new DataFrame\n",
    "df_market_data_scaled.head(10)\n",
    "\n",
    "# Copy the crypto names from the original data\n",
    "crypto_names = df_market_data.index.copy()\n",
    "\n",
    "# Set the coinid column as index\n",
    "df_market_data_scaled.index.name = \"coin_id\"\n",
    "\n",
    "# Display sample data\n",
    "df_market_data_scaled.head()\n"
   ]
  },
  {
   "cell_type": "markdown",
   "metadata": {},
   "source": [
    "---"
   ]
  },
  {
   "cell_type": "markdown",
   "metadata": {},
   "source": [
    "### Find the Best Value for k Using the Original Data."
   ]
  },
  {
   "cell_type": "code",
   "execution_count": null,
   "metadata": {},
   "outputs": [],
   "source": [
    "# Create a list with the number of k-values from 1 to 11\n",
    "k_values = [k for k in range(1, 12)]\n"
   ]
  },
  {
   "cell_type": "code",
   "execution_count": null,
   "metadata": {},
   "outputs": [],
   "source": [
    "# Create an empty list to store the inertia values\n",
    "inertia_values = []\n",
    "\n",
    "# Create a for loop to compute the inertia with each possible value of k\n",
    "# Inside the loop:\n",
    "# 1. Create a KMeans model using the loop counter for the n_clusters\n",
    "# 2. Fit the model to the data using `df_market_data_scaled`\n",
    "# 3. Append the model.inertia_ to the inertia list\n",
    "\n",
    "for k in k_values:\n",
    "    kmeans = KMeans(n_clusters=k, random_state=0)\n",
    "    kmeans.fit(df_market_data_scaled)\n",
    "    inertia_values.append(kmeans.inertia_)\n"
   ]
  },
  {
   "cell_type": "code",
   "execution_count": null,
   "metadata": {},
   "outputs": [],
   "source": [
    "# Create a dictionary with the data to plot the Elbow curve\n",
    "elbow_data = {k_values[i]: inertia_values[i] for i in range(len(k_values))}\n",
    "\n",
    "\n",
    "# Create a DataFrame with the data to plot the Elbow curve\n",
    "df_elbow_data = pd.DataFrame(elbow_data.items(), columns=[\"k\", \"inertia\"])\n",
    "\n"
   ]
  },
  {
   "cell_type": "code",
   "execution_count": null,
   "metadata": {},
   "outputs": [],
   "source": [
    "# Plot a line chart with all the inertia values computed with the different values of k to visually identify the optimal value for k.\n",
    "plt.plot(k_values, inertia_values, marker='o')\n",
    "\n",
    "# Set the plot title and axis labels\n",
    "plt.title('Elbow curve')\n",
    "plt.xlabel('Number of clusters (k)')\n",
    "plt.ylabel('Inertia')\n",
    "\n",
    "# Show the plot\n",
    "plt.show()\n"
   ]
  },
  {
   "cell_type": "markdown",
   "metadata": {},
   "source": [
    "#### Answer the following question: \n",
    "\n",
    "**Question:** What is the best value for `k`?\n",
    "\n",
    "**Answer: Based on the Elbow curve, it appears that the optimal value for k is 3, as this is where the rate of decrease in inertia starts to slow down significantly."
   ]
  },
  {
   "cell_type": "markdown",
   "metadata": {},
   "source": [
    "---"
   ]
  },
  {
   "cell_type": "markdown",
   "metadata": {},
   "source": [
    "### Cluster Cryptocurrencies with K-means Using the Original Data"
   ]
  },
  {
   "cell_type": "code",
   "execution_count": null,
   "metadata": {},
   "outputs": [],
   "source": [
    "# Initialize the K-Means model using the best value for k\n",
    "k = 3\n",
    "kmeans = KMeans(n_clusters=k, random_state=0)\n"
   ]
  },
  {
   "cell_type": "code",
   "execution_count": null,
   "metadata": {},
   "outputs": [],
   "source": [
    "# Fit the K-Means model using the scaled data\n",
    "kmeans.fit(df_market_data)\n"
   ]
  },
  {
   "cell_type": "code",
   "execution_count": null,
   "metadata": {},
   "outputs": [],
   "source": [
    "# Predict the clusters to group the cryptocurrencies using the scaled data\n",
    "cluster_labels = kmeans.predict(df_market_data)\n",
    "#Add the cluster labels to the original dataset.\n",
    "df_market_data['cluster'] = cluster_labels\n",
    "\n",
    "#Analyze the characteristics of each cluster.\n",
    "df_market_data.groupby('cluster').mean()\n",
    "\n",
    "# Print the resulting array of cluster values.\n",
    "print(kmeans.labels_)\n",
    "\n"
   ]
  },
  {
   "cell_type": "code",
   "execution_count": null,
   "metadata": {},
   "outputs": [],
   "source": [
    "# Create a copy of the DataFrame\n",
    "df_market_data_clusters = df_market_data.copy()\n"
   ]
  },
  {
   "cell_type": "code",
   "execution_count": null,
   "metadata": {},
   "outputs": [],
   "source": [
    "# Add a new column to the DataFrame with the predicted clusters\n",
    "df_market_data['cluster'] = kmeans.labels_\n",
    "\n",
    "# Display sample data\n",
    "print(df_market_data.head())\n"
   ]
  },
  {
   "cell_type": "code",
   "execution_count": null,
   "metadata": {},
   "outputs": [],
   "source": [
    "# Create a scatter plot using hvPlot by setting \n",
    "# `x=\"price_change_percentage_24h\"` and `y=\"price_change_percentage_7d\"`. \n",
    "\n",
    "scatter_plot = df_market_data.hvplot.scatter(\n",
    "x=\"price_change_percentage_24h\",\n",
    "y=\"price_change_percentage_7d\",\n",
    "by=\"cluster\",\n",
    "hover_cols=[\"coin_id\"]\n",
    ")\n",
    "\n",
    "\n"
   ]
  },
  {
   "cell_type": "code",
   "execution_count": null,
   "metadata": {},
   "outputs": [],
   "source": [
    "# Color the graph points with the labels found using K-Means and \n",
    "# add the crypto name in the `hover_cols` parameter to identify \n",
    "# the cryptocurrency represented by each data point.\n",
    "df_market_data_clusters.hvplot.scatter(\n",
    "    x=\"price_change_percentage_24h\",\n",
    "    y=\"price_change_percentage_7d\",\n",
    "    by=\"cluster\",\n",
    "    hover_cols=[\"coin_name\"],\n",
    "    width=800,\n",
    "    height=400\n",
    ")\n"
   ]
  },
  {
   "cell_type": "markdown",
   "metadata": {},
   "source": [
    "---"
   ]
  },
  {
   "cell_type": "markdown",
   "metadata": {},
   "source": [
    "### Optimize Clusters with Principal Component Analysis."
   ]
  },
  {
   "cell_type": "code",
   "execution_count": null,
   "metadata": {},
   "outputs": [],
   "source": [
    "# Create a PCA model instance and set `n_components=3`.\n",
    "\n",
    "pca = PCA(n_components=3)"
   ]
  },
  {
   "cell_type": "code",
   "execution_count": null,
   "metadata": {},
   "outputs": [],
   "source": [
    "# Use the PCA model with `fit_transform` to reduce to \n",
    "# three principal components.\n",
    "\n",
    "\n",
    "from sklearn.decomposition import PCA\n",
    "\n",
    "# Create a PCA model instance with n_components=3\n",
    "pca = PCA(n_components=3)\n",
    "\n",
    "# Use the fit_transform method on the scaled data\n",
    "market_data_pca = pca.fit_transform(df_market_data_scaled)\n",
    "\n",
    "# Create a DataFrame with the PCA data and the cluster labels\n",
    "df_market_data_pca = pd.DataFrame(\n",
    "    data=market_data_pca,\n",
    "    columns=[\"principal component 1\", \"principal component 2\", \"principal component 3\"],\n",
    "    index=df_market_data.index\n",
    ")\n",
    "df_market_data_pca[\"cluster\"] = cluster_labels\n",
    "\n",
    "# View the first five rows of the DataFrame. \n",
    "df_market_data_pca.head()\n"
   ]
  },
  {
   "cell_type": "code",
   "execution_count": null,
   "metadata": {},
   "outputs": [],
   "source": [
    "# Retrieve the explained variance to determine how much information \n",
    "# can be attributed to each principal component.\n",
    "# Create a PCA model instance and set n_components=3\n",
    "pca = PCA(n_components=3)\n",
    "\n",
    "# Fit the PCA model to the scaled data and transform it\n",
    "pca_data = pca.fit_transform(df_market_data_scaled)\n",
    "\n",
    "# Retrieve the explained variance of the principal components\n",
    "explained_variance = pca.explained_variance_ratio_\n",
    "\n",
    "# Print the explained variance of each principal component\n",
    "print(explained_variance)\n"
   ]
  },
  {
   "cell_type": "markdown",
   "metadata": {},
   "source": [
    "#### Answer the following question: \n",
    "\n",
    "**Question:** What is the total explained variance of the three principal components?\n",
    "\n",
    "**Answer:** The total explained variance of the three principal components is 0.9417, which means that these three principal components contain about 94.17% of the total information in the data."
   ]
  },
  {
   "cell_type": "code",
   "execution_count": null,
   "metadata": {},
   "outputs": [],
   "source": [
    "# Create a PCA model instance and set `n_components=3`\n",
    "pca = PCA(n_components=3)\n",
    "\n",
    "# Use the PCA model with `fit_transform` to reduce to three principal components\n",
    "pca_transformed_data = pca.fit_transform(df_market_data_scaled)\n",
    "\n",
    "# Creating a DataFrame with the PCA data\n",
    "df_market_data_pca = pd.DataFrame(\n",
    "    pca_transformed_data,\n",
    "    columns=[\"principal component 1\", \"principal component 2\", \"principal component 3\"],\n",
    "    index=df_market_data.index\n",
    ")\n",
    "\n",
    "# Copy the crypto names from the original data\n",
    "df_market_data_pca[\"CoinId\"] = df_market_data.index\n",
    "\n",
    "# Set the coinid column as index\n",
    "df_market_data_pca.set_index(\"CoinId\", inplace=True)\n",
    "\n",
    "# Display sample data\n",
    "print(df_market_data_pca.head())\n"
   ]
  },
  {
   "cell_type": "code",
   "execution_count": null,
   "metadata": {},
   "outputs": [],
   "source": [
    "# Create a new DataFrame with the PCA data.\n",
    "df_market_data_pca = pd.DataFrame(\n",
    "    pca_transformed_data,\n",
    "    columns=[\"principal component 1\", \"principal component 2\", \"principal component 3\"],\n",
    "    index=df_market_data.index\n",
    ")\n",
    "\n",
    "# Copy the crypto names from the original data\n",
    "crypto_names = df_market_data.index.copy()\n",
    "\n",
    "# Set the coinid column as index\n",
    "df_market_data_pca.index.name = \"coin_id\"\n",
    "\n",
    "# Display sample data\n",
    "df_market_data_pca.head()\n",
    "\n"
   ]
  },
  {
   "cell_type": "markdown",
   "metadata": {},
   "source": [
    "---"
   ]
  },
  {
   "cell_type": "markdown",
   "metadata": {},
   "source": [
    "### Find the Best Value for k Using the PCA Data"
   ]
  },
  {
   "cell_type": "code",
   "execution_count": null,
   "metadata": {},
   "outputs": [],
   "source": [
    "# Create a list with the number of k-values from 1 to 11\n",
    "\n",
    "k_values = [k for k in range(1, 12)]"
   ]
  },
  {
   "cell_type": "code",
   "execution_count": null,
   "metadata": {},
   "outputs": [],
   "source": [
    "# Create an empy list to store the inertia values\n",
    "inertia_values_pca = []\n",
    "\n",
    "# Create a for loop to compute the inertia with each possible value of k\n",
    "# Inside the loop:\n",
    "# 1. Create a KMeans model using the loop counter for the n_clusters\n",
    "# 2. Fit the model to the data using `df_market_data_pca`\n",
    "# 3. Append the model.inertia_ to the inertia list\n",
    "\n",
    "for k in k_values:\n",
    "    kmeans_pca = KMeans(n_clusters=k, random_state=0)\n",
    "    kmeans_pca.fit(df_market_data_pca)\n",
    "    inertia_values_pca.append(kmeans_pca.inertia_)\n"
   ]
  },
  {
   "cell_type": "code",
   "execution_count": null,
   "metadata": {},
   "outputs": [],
   "source": [
    "# Create a dictionary with the data to plot the Elbow curve\n",
    "elbow_data = {k_values[i]: inertia_values[i] for i in range(len(k_values))}\n",
    "\n",
    "# Create a DataFrame with the data to plot the Elbow curve\n",
    "df_elbow_data = pd.DataFrame(elbow_data.items(), columns=[\"k\", \"inertia\"])  \n"
   ]
  },
  {
   "cell_type": "code",
   "execution_count": null,
   "metadata": {},
   "outputs": [],
   "source": [
    "# Plot a line chart with all the inertia values computed with \n",
    "# the different values of k to visually identify the optimal value for k.\n",
    "plt.plot(k_values, inertia_values, marker='o')\n",
    "\n",
    "# Set the plot title and axis labels\n",
    "plt.title('Elbow curve')\n",
    "plt.xlabel('Number of clusters (k)')\n",
    "plt.ylabel('Inertia')\n",
    "\n",
    "# Show the plot\n",
    "plt.show()\n"
   ]
  },
  {
   "cell_type": "markdown",
   "metadata": {},
   "source": [
    "#### Answer the following questions: \n",
    "\n",
    "* **Question:** What is the best value for `k` when using the PCA data?\n",
    "\n",
    "  * **Answer:**Based on the Elbow curve, it appears that the optimal value for k is 3.\n",
    "\n",
    "* **Question:** Does it differ from the best k value found using the original data?\n",
    "\n",
    "  * **Answer:** Based on my visual inspection, the k value in both plots seems to me the same. "
   ]
  },
  {
   "cell_type": "markdown",
   "metadata": {},
   "source": [
    "### Cluster Cryptocurrencies with K-means Using the PCA Data"
   ]
  },
  {
   "cell_type": "code",
   "execution_count": null,
   "metadata": {},
   "outputs": [],
   "source": [
    "# Fit the K-Means model using the PCA data\n",
    "kmeans_pca.fit(df_market_data_pca)"
   ]
  },
  {
   "cell_type": "code",
   "execution_count": null,
   "metadata": {},
   "outputs": [],
   "source": [
    "\n",
    "# Predict the clusters to group the cryptocurrencies using the PCA data\n",
    "crypto_pca_clusters = kmeans_pca.predict(df_market_data_pca)\n",
    "\n",
    "# Print the resulting array of cluster values\n",
    "print(crypto_pca_clusters)\n",
    "\n"
   ]
  },
  {
   "cell_type": "code",
   "execution_count": null,
   "metadata": {
    "scrolled": true
   },
   "outputs": [],
   "source": [
    "# Create a copy of the DataFrame with the PCA data\n",
    "df_pca_clusters = df_market_data_pca.copy()\n",
    "\n",
    "# Add a new column to the DataFrame with the predicted clusters\n",
    "df_pca_clusters['crypto_cluster'] = kmeans_pca.labels_\n",
    "\n",
    "# Display sample data\n",
    "df_pca_clusters.head()\n",
    "\n"
   ]
  },
  {
   "cell_type": "code",
   "execution_count": null,
   "metadata": {},
   "outputs": [],
   "source": [
    "# Creating a 3D-Scatter with the PCA data and the clusters\n",
    "fig = px.scatter_3d(\n",
    "    clustered_df,\n",
    "    x=\"principal component 1\",\n",
    "    y=\"principal component 2\",\n",
    "    z=\"principal component 3\",\n",
    "    hover_data=[\"Algorithm\"],\n",
    "    hover_name=\"CoinName\",\n",
    "    color=\"Class\",\n",
    "    symbol=\"Class\",\n",
    "    width=800\n",
    ")\n",
    "fig.update_layout(legend=dict(x=0, y=1))\n",
    "fig.show()"
   ]
  },
  {
   "cell_type": "code",
   "execution_count": null,
   "metadata": {},
   "outputs": [],
   "source": [
    "# Create a scatter plot using hvPlot by setting \n",
    "# `x=\"PC1\"` and `y=\"PC2\"`. \n",
    "# Color the graph points with the labels found using K-Means by setting by=\"crypto_cluster\"\n",
    "# add the crypto name in the `hover_cols` parameter to identify the cryptocurrency represented by each data point.\n",
    "# the marker parameter should be set to [\"hex\", \"square\", \"cross\", \"inverted_triangle\"]\n",
    "# Lastly, set the title\n",
    "\n",
    "\n",
    "#df_market_data_pca.hvplot.scatter(\n",
    "   # x=\"principal component 1\",\n",
    "  #  y=\"principal component 2\",\n",
    "  #  by=\"crypto_cluster\",\n",
    "  #  marker=[\"hex\", \"square\", \"cross\", \"inverted_triangle\"],\n",
    "  #  hover_cols=[\"coinid\"],\n",
    "  #  title=\"Crypto Clusters\"\n",
    "#)#\n",
    "\n",
    "df_market_data_pca.hvplot.scatter(\n",
    "    x=\"PC1\",\n",
    "    y=\"PC2\",\n",
    "    by=\"crypto_cluster\",\n",
    "    marker=[\"hex\", \"square\", \"cross\", \"inverted_triangle\"],\n",
    "    hover_cols=[\"coinid\"],\n",
    "    title=\"Crypto Clusters\"\n",
    ")\n"
   ]
  },
  {
   "cell_type": "code",
   "execution_count": null,
   "metadata": {},
   "outputs": [],
   "source": [
    "df_pca_clusters = df_pca_clusters.rename(columns={'cluster': 'crypto_cluster'})\n",
    "df_pca_clusters"
   ]
  },
  {
   "cell_type": "code",
   "execution_count": null,
   "metadata": {},
   "outputs": [],
   "source": [
    "# Perform K-Means clustering on the PCA data\n",
    "kmeans = KMeans(n_clusters=4, random_state=0)\n",
    "kmeans.fit(X_pca)\n",
    "\n",
    "# Predict the clusters\n",
    "labels = kmeans.fit_predict(X_pca)\n",
    "\n",
    "# Create a copy of the DataFrame with the PCA data\n",
    "pca_df = pd.DataFrame(X_pca, columns=[\"PC1\", \"PC2\"], index=crypto_df.index)\n",
    "\n",
    "# Add a new column to the DataFrame with the predicted clusters\n",
    "clustered_df = pca_df.copy()\n",
    "clustered_df[\"crypto_cluster\"] = labels\n",
    "\n",
    "# Create a scatter plot using hvPlot\n",
    "clustered_df.hvplot.scatter(\n",
    "    x=\"PC1\",\n",
    "    y=\"PC2\",\n",
    "    by=\"crypto_cluster\",\n",
    "    hover_cols=[\"coinid\"],\n",
    "    marker=[\"hex\", \"square\", \"cross\", \"inverted_triangle\"],\n",
    "    title=\"Crypto Clusters\"\n",
    ")\n"
   ]
  },
  {
   "cell_type": "code",
   "execution_count": null,
   "metadata": {},
   "outputs": [],
   "source": [
    "# Apply PCA to reduce dimensions to 2\n",
    "pca = PCA(n_components=2, random_state=0)\n",
    "X_pca = pca.fit_transform(X)\n",
    "\n",
    "# Perform K-Means clustering on the PCA data\n",
    "kmeans = KMeans(n_clusters=4, random_state=0)\n",
    "kmeans.fit(X_pca)\n",
    "\n",
    "# Predict the clusters\n",
    "labels = kmeans.predict(X_pca)\n",
    "\n",
    "# Add the predicted clusters to the original dataframe\n",
    "df[\"crypto_cluster\"] = labels\n"
   ]
  },
  {
   "cell_type": "code",
   "execution_count": null,
   "metadata": {},
   "outputs": [],
   "source": [
    "# Initialize the K-Means model using the best value for k\n",
    "#kmeans_pca = KMeans(n_clusters=3, random_state=0)\n",
    "kmeans = KMeans(n_clusters=3, random_state=0)\n",
    "kmeans.fit(pca1)"
   ]
  },
  {
   "cell_type": "markdown",
   "metadata": {},
   "source": [
    "### Visualize and Compare the Results\n",
    "\n",
    "In this section, you will visually analyze the cluster analysis results by contrasting the outcome with and without using the optimization techniques."
   ]
  },
  {
   "cell_type": "code",
   "execution_count": null,
   "metadata": {},
   "outputs": [],
   "source": [
    "# Composite plot to contrast the Elbow curves"
   ]
  },
  {
   "cell_type": "code",
   "execution_count": null,
   "metadata": {},
   "outputs": [],
   "source": [
    "# Composite plot to contrast the clusters\n",
    "# YOUR CODE HERE!"
   ]
  },
  {
   "cell_type": "markdown",
   "metadata": {},
   "source": [
    "#### Answer the following question: \n",
    "\n",
    "  * **Question:** After visually analyzing the cluster analysis results, what is the impact of using fewer features to cluster the data using K-Means?\n",
    "\n",
    "  * **Answer:** "
   ]
  }
 ],
 "metadata": {
  "kernelspec": {
   "display_name": "PythonData",
   "language": "python",
   "name": "pythondata"
  },
  "language_info": {
   "codemirror_mode": {
    "name": "ipython",
    "version": 3
   },
   "file_extension": ".py",
   "mimetype": "text/x-python",
   "name": "python",
   "nbconvert_exporter": "python",
   "pygments_lexer": "ipython3",
   "version": "3.7.7"
  },
  "nteract": {
   "version": "0.28.0"
  },
  "vscode": {
   "interpreter": {
    "hash": "40d3a090f54c6569ab1632332b64b2c03c39dcf918b08424e98f38b5ae0af88f"
   }
  }
 },
 "nbformat": 4,
 "nbformat_minor": 4
}
